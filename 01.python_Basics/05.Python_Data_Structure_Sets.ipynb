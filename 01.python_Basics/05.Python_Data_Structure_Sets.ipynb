{
 "cells": [
  {
   "cell_type": "code",
   "execution_count": null,
   "metadata": {},
   "outputs": [],
   "source": [
    "#A set is an unordered collection of items where every element is unique (no duplicates)."
   ]
  },
  {
   "cell_type": "code",
   "execution_count": 1,
   "metadata": {},
   "outputs": [
    {
     "name": "stdout",
     "output_type": "stream",
     "text": [
      "{1, 2, 3}\n",
      "{1.0, 'Hello', (1, 2, 3)}\n"
     ]
    }
   ],
   "source": [
    "# set of integers\n",
    "my_set = {1, 2, 3}\n",
    "print(my_set)\n",
    "\n",
    "# set of mixed datatypes\n",
    "my_set = {1.0, \"Hello\", (1, 2, 3)}\n",
    "print(my_set)"
   ]
  },
  {
   "cell_type": "code",
   "execution_count": 2,
   "metadata": {},
   "outputs": [
    {
     "name": "stdout",
     "output_type": "stream",
     "text": [
      "set()\n",
      "{'h', 'P', 'y', 't', 'o', 'n'}\n",
      "{'u', 'o', 'i', 'a', 'e'}\n",
      "{'u', 'o', 'i', 'a', 'e'}\n",
      "{0, 1, 2, 3, 4}\n"
     ]
    }
   ],
   "source": [
    "#Set() Function\n",
    "#Example 1: How set() works for a sequence: string, tuple, list, range?\n",
    "# empty set\n",
    "print(set())\n",
    "\n",
    "# from string\n",
    "print(set('Python'))\n",
    "\n",
    "# from tuple\n",
    "print(set(('a', 'e', 'i', 'o', 'u')))\n",
    "\n",
    "# from list\n",
    "print(set(['a', 'e', 'i', 'o', 'u']))\n",
    "\n",
    "# from range\n",
    "print(set(range(5)))"
   ]
  },
  {
   "cell_type": "code",
   "execution_count": 3,
   "metadata": {},
   "outputs": [
    {
     "name": "stdout",
     "output_type": "stream",
     "text": [
      "{'o', 'i', 'u', 'a', 'e'}\n",
      "{'i', 'u', 'o', 'a', 'e'}\n",
      "{'o', 'i', 'u', 'a', 'e'}\n"
     ]
    }
   ],
   "source": [
    "#Example 2: How set() works for a collection: set, dictionary and frozen set?\n",
    "# for set\n",
    "print(set({'a', 'e', 'i', 'o', 'u'}))\n",
    "\n",
    "# from dictionary\n",
    "print(set({'a':1, 'e': 2, 'i':3, 'o':4, 'u':5}))\n",
    "\n",
    "# from frozen set\n",
    "frozenSet = frozenset(('a', 'e', 'i', 'o', 'u'))\n",
    "print(set(frozenSet))"
   ]
  },
  {
   "cell_type": "code",
   "execution_count": 4,
   "metadata": {},
   "outputs": [
    {
     "name": "stdout",
     "output_type": "stream",
     "text": [
      "{1, 2, 3, 4, 5}\n"
     ]
    }
   ],
   "source": [
    "#Example 3: How set() works for custom iterable object?\n",
    "class PrintNumber:\n",
    "    def __init__(self, max):\n",
    "        self.max = max\n",
    "\n",
    "    def __iter__(self):\n",
    "        self.num = 0\n",
    "        return self\n",
    "\n",
    "    def __next__(self):\n",
    "        if(self.num >= self.max):\n",
    "            raise StopIteration\n",
    "        self.num += 1\n",
    "        return self.num\n",
    "\n",
    "printNum = PrintNumber(5)\n",
    "\n",
    "# creating a set\n",
    "print(set(printNum))"
   ]
  },
  {
   "cell_type": "code",
   "execution_count": null,
   "metadata": {},
   "outputs": [],
   "source": [
    "\"\"\"\n",
    "Sets are mutable. You can add, remove and delete elements of a set. However,\n",
    "you cannot replace one item of a set with another as they are unordered and indexing have no meaning.\n",
    "\"\"\""
   ]
  },
  {
   "cell_type": "code",
   "execution_count": 5,
   "metadata": {
    "collapsed": true
   },
   "outputs": [
    {
     "name": "stdout",
     "output_type": "stream",
     "text": [
      "{1, 2, 3, 4}\n",
      "{1, 2, 3, 4}\n",
      "{1, 2, 3, 4, 5}\n",
      "{1, 2, 3, 5}\n"
     ]
    }
   ],
   "source": [
    "# set of integers\n",
    "my_set = {1, 2, 3}\n",
    "\n",
    "my_set.add(4)\n",
    "print(my_set) # Output: {1, 2, 3, 4}\n",
    "\n",
    "my_set.add(2)\n",
    "print(my_set) # Output: {1, 2, 3, 4}\n",
    "\n",
    "my_set.update([3, 4, 5])\n",
    "print(my_set) # Output: {1, 2, 3, 4, 5}\n",
    "\n",
    "my_set.remove(4)\n",
    "print(my_set) # Output: {1, 2, 3, 5}"
   ]
  },
  {
   "cell_type": "code",
   "execution_count": 6,
   "metadata": {},
   "outputs": [
    {
     "name": "stdout",
     "output_type": "stream",
     "text": [
      "{1, 2, 3, 4, 5}\n",
      "{2, 3}\n",
      "{1}\n",
      "{1, 4, 5}\n"
     ]
    }
   ],
   "source": [
    "A = {1, 2, 3}\n",
    "B = {2, 3, 4, 5}\n",
    "\n",
    "# Equivalent to A.union(B) \n",
    "# Also equivalent to B.union(A)\n",
    "print(A | B) # Output: {1, 2, 3, 4, 5}\n",
    "\n",
    "# Equivalent to A.intersection(B)\n",
    "# Also equivalent to B.intersection(A)\n",
    "print (A & B) # Output: {2, 3}\n",
    "\n",
    "# Set Difference\n",
    "print (A - B) # Output: {1}\n",
    "\n",
    "# Set Symmetric Difference\n",
    "print(A ^ B)  # Output: {1, 4, 5}"
   ]
  }
 ],
 "metadata": {
  "kernelspec": {
   "display_name": "Python 3",
   "language": "python",
   "name": "python3"
  },
  "language_info": {
   "codemirror_mode": {
    "name": "ipython",
    "version": 3
   },
   "file_extension": ".py",
   "mimetype": "text/x-python",
   "name": "python",
   "nbconvert_exporter": "python",
   "pygments_lexer": "ipython3",
   "version": "3.7.1"
  }
 },
 "nbformat": 4,
 "nbformat_minor": 2
}
