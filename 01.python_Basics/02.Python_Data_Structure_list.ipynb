{
 "cells": [
  {
   "cell_type": "code",
   "execution_count": 1,
   "metadata": {},
   "outputs": [],
   "source": [
    "#Lists\n",
    "# empty list\n",
    "my_list = []\n",
    "# list of integers\n",
    "my_list = [1, 2, 3]\n",
    "# list with mixed data types\n",
    "my_list = [1, \"Hello\", 3.4]"
   ]
  },
  {
   "cell_type": "code",
   "execution_count": 2,
   "metadata": {},
   "outputs": [
    {
     "name": "stdout",
     "output_type": "stream",
     "text": [
      "[]\n",
      "['a', 'e', 'i', 'o', 'u']\n",
      "['a', 'e', 'i', 'o', 'u']\n",
      "['a', 'e', 'i', 'o', 'u']\n"
     ]
    }
   ],
   "source": [
    "#List() Function\n",
    "#Example 1: Create list from sequence: string, tuple and list\n",
    "# empty list\n",
    "print(list())\n",
    "\n",
    "# vowel string\n",
    "vowelString = 'aeiou'\n",
    "print(list(vowelString))\n",
    "\n",
    "# vowel tuple\n",
    "vowelTuple = ('a', 'e', 'i', 'o', 'u')\n",
    "print(list(vowelTuple))\n",
    "\n",
    "# vowel list\n",
    "vowelList = ['a', 'e', 'i', 'o', 'u']\n",
    "print(list(vowelList))"
   ]
  },
  {
   "cell_type": "code",
   "execution_count": 3,
   "metadata": {},
   "outputs": [
    {
     "name": "stdout",
     "output_type": "stream",
     "text": [
      "['u', 'o', 'a', 'e', 'i']\n",
      "['a', 'e', 'i', 'o', 'u']\n"
     ]
    }
   ],
   "source": [
    "#Example 2: Create list from collection: set and dictionary\n",
    "# vowel set\n",
    "vowelSet = {'a', 'e', 'i', 'o', 'u'}\n",
    "print(list(vowelSet))\n",
    "\n",
    "# vowel dictionary\n",
    "vowelDictionary = {'a': 1, 'e': 2, 'i': 3, 'o':4, 'u':5}\n",
    "print(list(vowelDictionary))"
   ]
  },
  {
   "cell_type": "code",
   "execution_count": 4,
   "metadata": {},
   "outputs": [
    {
     "name": "stdout",
     "output_type": "stream",
     "text": [
      "[1, 2, 4, 8, 16]\n"
     ]
    }
   ],
   "source": [
    "#Example 3: Create list from custom iterator object\n",
    "class PowTwo:\n",
    "    def __init__(self, max):\n",
    "        self.max = max\n",
    "    \n",
    "    def __iter__(self):\n",
    "        self.num = 0\n",
    "        return self\n",
    "        \n",
    "    def __next__(self):\n",
    "        if(self.num >= self.max):\n",
    "            raise StopIteration\n",
    "        result = 2 ** self.num\n",
    "        self.num += 1\n",
    "        return result\n",
    "\n",
    "powTwo = PowTwo(5)\n",
    "powTwoIter = iter(powTwo)\n",
    "\n",
    "print(list(powTwoIter))"
   ]
  },
  {
   "cell_type": "code",
   "execution_count": 7,
   "metadata": {},
   "outputs": [
    {
     "name": "stdout",
     "output_type": "stream",
     "text": [
      "Updated animal list :  ['cat', 'dog', 'rabbit', 'guinea pig']\n"
     ]
    }
   ],
   "source": [
    "#Python List Methods\n",
    "#Python List append()\n",
    "#Example 1 : adding element to a list\n",
    "#animal list\n",
    "animal = ['cat','dog','rabbit']\n",
    "#an element is added\n",
    "animal .append('guinea pig')\n",
    "#updated Animal list\n",
    "print('Updated animal list : ', animal)"
   ]
  },
  {
   "cell_type": "code",
   "execution_count": 10,
   "metadata": {},
   "outputs": [
    {
     "name": "stdout",
     "output_type": "stream",
     "text": [
      "Updated animal list: ['cat', 'dog', 'rabbit', ['tiger', 'fox']]\n"
     ]
    }
   ],
   "source": [
    "#Example 2: Adding List to a List\n",
    "#animal list\n",
    "animal = ['cat','dog','rabbit']\n",
    "# another list of wild animals\n",
    "wild_animal = ['tiger','fox']\n",
    "#adding wild animal list to animal list\n",
    "animal.append(wild_animal)\n",
    "\n",
    "#updated list\n",
    "print('Updated animal list:',animal)"
   ]
  },
  {
   "cell_type": "code",
   "execution_count": 12,
   "metadata": {},
   "outputs": [
    {
     "name": "stdout",
     "output_type": "stream",
     "text": [
      "Language list :  ['French', 'English', 'German', 'Spanish', 'Portuguese']\n"
     ]
    }
   ],
   "source": [
    "#Python List extend()\n",
    "#Example 1: Using extend() Method\n",
    "#language list\n",
    "language = ['French','English','German']\n",
    "#another list of language\n",
    "language1 = ['Spanish','Portuguese']\n",
    "language.extend(language1)\n",
    "\n",
    "# Extended list\n",
    "print('Language list : ',language)"
   ]
  },
  {
   "cell_type": "code",
   "execution_count": 13,
   "metadata": {},
   "outputs": [
    {
     "name": "stdout",
     "output_type": "stream",
     "text": [
      "New Language List:  ['French', 'English', 'German', 'Spanish', 'Portuguese']\n",
      "Newest Language List:  ['French', 'English', 'German', 'Spanish', 'Portuguese', 'Japanese', 'Chinese']\n"
     ]
    }
   ],
   "source": [
    "#Example 2: Add Elements of Tuple and Set to List\n",
    "# language list\n",
    "language = ['French', 'English', 'German']\n",
    "\n",
    "# language tuple\n",
    "language_tuple = ('Spanish', 'Portuguese')\n",
    "\n",
    "# language set\n",
    "language_set = {'Chinese', 'Japanese'}\n",
    "\n",
    "# appending element of language tuple\n",
    "language.extend(language_tuple)\n",
    "\n",
    "print('New Language List: ', language)\n",
    "\n",
    "# appending element of language set\n",
    "language.extend(language_set)\n",
    "\n",
    "print('Newest Language List: ', language)"
   ]
  },
  {
   "cell_type": "code",
   "execution_count": 15,
   "metadata": {},
   "outputs": [
    {
     "name": "stdout",
     "output_type": "stream",
     "text": [
      "Updated list :  ['a', 'e', 'i', 'o', 'o', 'u']\n"
     ]
    }
   ],
   "source": [
    "# Python List insert()\n",
    "# Example 1: Inserting Element to List\n",
    "#Vowel list\n",
    "vowel = ['a','e','i','o','u']\n",
    "\n",
    "# Inserting elements to list at 4th position\n",
    "vowel.insert(3,'o')\n",
    "\n",
    "print('Updated list : ',vowel)"
   ]
  },
  {
   "cell_type": "code",
   "execution_count": 19,
   "metadata": {},
   "outputs": [
    {
     "name": "stdout",
     "output_type": "stream",
     "text": [
      "Updated List:  [{1, 2}, (3, 4), [5, 6, 7]]\n"
     ]
    }
   ],
   "source": [
    "#Example 2: Inserting a Tuple (as an Element) to the List\n",
    "mixed_list = [{1, 2}, [5, 6, 7]]\n",
    "\n",
    "# number tuple\n",
    "number_tuple = (3, 4)\n",
    "\n",
    "# inserting tuple to the list\n",
    "mixed_list.insert(1, number_tuple)\n",
    "\n",
    "print('Updated List: ', mixed_list)"
   ]
  },
  {
   "cell_type": "code",
   "execution_count": 20,
   "metadata": {},
   "outputs": [
    {
     "name": "stdout",
     "output_type": "stream",
     "text": [
      "Updated animal list:  ['cat', 'dog', 'guinea pig']\n"
     ]
    }
   ],
   "source": [
    "#Python List remove()\n",
    "#Example 1: Remove Element From The List\n",
    "# animal list\n",
    "animal = ['cat', 'dog', 'rabbit', 'guinea pig']\n",
    "\n",
    "# 'rabbit' element is removed\n",
    "animal.remove('rabbit')\n",
    "\n",
    "#Updated Animal List\n",
    "print('Updated animal list: ', animal)"
   ]
  },
  {
   "cell_type": "code",
   "execution_count": 21,
   "metadata": {},
   "outputs": [
    {
     "name": "stdout",
     "output_type": "stream",
     "text": [
      "Updated animal list:  ['cat', 'dog', 'guinea pig', 'dog']\n"
     ]
    }
   ],
   "source": [
    "#Example 2: remove() Method on a List having Duplicate Elements\n",
    "# If a list contains duplicate elements\n",
    "# the remove() method removes only the first instance\n",
    "\n",
    "# animal list\n",
    "animal = ['cat', 'dog', 'dog', 'guinea pig', 'dog']\n",
    "\n",
    "# 'dog' element is removed\n",
    "animal.remove('dog')\n",
    "\n",
    "#Updated Animal List\n",
    "print('Updated animal list: ', animal)"
   ]
  },
  {
   "cell_type": "code",
   "execution_count": 22,
   "metadata": {},
   "outputs": [
    {
     "ename": "ValueError",
     "evalue": "list.remove(x): x not in list",
     "output_type": "error",
     "traceback": [
      "\u001b[1;31m---------------------------------------------------------------------------\u001b[0m",
      "\u001b[1;31mValueError\u001b[0m                                Traceback (most recent call last)",
      "\u001b[1;32m<ipython-input-22-4f8c733cd7d0>\u001b[0m in \u001b[0;36m<module>\u001b[1;34m\u001b[0m\n\u001b[0;32m      4\u001b[0m \u001b[1;33m\u001b[0m\u001b[0m\n\u001b[0;32m      5\u001b[0m \u001b[1;31m# Deleting 'fish' element\u001b[0m\u001b[1;33m\u001b[0m\u001b[1;33m\u001b[0m\u001b[1;33m\u001b[0m\u001b[0m\n\u001b[1;32m----> 6\u001b[1;33m \u001b[0manimal\u001b[0m\u001b[1;33m.\u001b[0m\u001b[0mremove\u001b[0m\u001b[1;33m(\u001b[0m\u001b[1;34m'fish'\u001b[0m\u001b[1;33m)\u001b[0m\u001b[1;33m\u001b[0m\u001b[1;33m\u001b[0m\u001b[0m\n\u001b[0m\u001b[0;32m      7\u001b[0m \u001b[1;33m\u001b[0m\u001b[0m\n\u001b[0;32m      8\u001b[0m \u001b[1;31m# Updated Animal List\u001b[0m\u001b[1;33m\u001b[0m\u001b[1;33m\u001b[0m\u001b[1;33m\u001b[0m\u001b[0m\n",
      "\u001b[1;31mValueError\u001b[0m: list.remove(x): x not in list"
     ]
    }
   ],
   "source": [
    "#Example 3: Trying to Delete Element That Doesn't Exist\n",
    "# animal list\n",
    "animal = ['cat', 'dog', 'rabbit', 'guinea pig']\n",
    "\n",
    "# Deleting 'fish' element\n",
    "animal.remove('fish')\n",
    "\n",
    "# Updated Animal List\n",
    "print('Updated animal list: ', animal)"
   ]
  },
  {
   "cell_type": "code",
   "execution_count": 23,
   "metadata": {},
   "outputs": [
    {
     "name": "stdout",
     "output_type": "stream",
     "text": [
      "The index of e: 1\n",
      "The index of i: 2\n"
     ]
    }
   ],
   "source": [
    "# Python List index()\n",
    "# Example 1: Find position of element in the list\n",
    "# vowels list\n",
    "vowels = ['a', 'e', 'i', 'o', 'i', 'u']\n",
    "\n",
    "# element 'e' is searched\n",
    "index = vowels.index('e')\n",
    "\n",
    "# index of 'e' is printed\n",
    "print('The index of e:', index)\n",
    "\n",
    "# element 'i' is searched\n",
    "index = vowels.index('i')\n",
    "\n",
    "# only the first index of the element is printed\n",
    "print('The index of i:', index)"
   ]
  },
  {
   "cell_type": "code",
   "execution_count": 24,
   "metadata": {},
   "outputs": [
    {
     "ename": "ValueError",
     "evalue": "'p' is not in list",
     "output_type": "error",
     "traceback": [
      "\u001b[1;31m---------------------------------------------------------------------------\u001b[0m",
      "\u001b[1;31mValueError\u001b[0m                                Traceback (most recent call last)",
      "\u001b[1;32m<ipython-input-24-a068698c74f4>\u001b[0m in \u001b[0;36m<module>\u001b[1;34m\u001b[0m\n\u001b[0;32m      4\u001b[0m \u001b[1;33m\u001b[0m\u001b[0m\n\u001b[0;32m      5\u001b[0m \u001b[1;31m# element 'p' is searched\u001b[0m\u001b[1;33m\u001b[0m\u001b[1;33m\u001b[0m\u001b[1;33m\u001b[0m\u001b[0m\n\u001b[1;32m----> 6\u001b[1;33m \u001b[0mindex\u001b[0m \u001b[1;33m=\u001b[0m \u001b[0mvowels\u001b[0m\u001b[1;33m.\u001b[0m\u001b[0mindex\u001b[0m\u001b[1;33m(\u001b[0m\u001b[1;34m'p'\u001b[0m\u001b[1;33m)\u001b[0m\u001b[1;33m\u001b[0m\u001b[1;33m\u001b[0m\u001b[0m\n\u001b[0m\u001b[0;32m      7\u001b[0m \u001b[1;33m\u001b[0m\u001b[0m\n\u001b[0;32m      8\u001b[0m \u001b[1;31m# index is printed\u001b[0m\u001b[1;33m\u001b[0m\u001b[1;33m\u001b[0m\u001b[1;33m\u001b[0m\u001b[0m\n",
      "\u001b[1;31mValueError\u001b[0m: 'p' is not in list"
     ]
    }
   ],
   "source": [
    "#Example 2: Index of element not present in the list\n",
    "# vowels list\n",
    "vowels = ['a', 'e', 'i', 'o', 'u']\n",
    "\n",
    "# element 'p' is searched\n",
    "index = vowels.index('p')\n",
    "\n",
    "# index is printed\n",
    "print('The index of p:', index)"
   ]
  },
  {
   "cell_type": "code",
   "execution_count": 25,
   "metadata": {},
   "outputs": [
    {
     "name": "stdout",
     "output_type": "stream",
     "text": [
      "The index of ('a', 'b'): 1\n",
      "The index of [3, 4]: 2\n"
     ]
    }
   ],
   "source": [
    "#Example 3: Find index of tuple and list inside a list\n",
    "# random list\n",
    "random = ['a', ('a', 'b'), [3, 4]]\n",
    "\n",
    "# element ('a', 'b') is searched\n",
    "index = random.index(('a', 'b'))\n",
    "\n",
    "# index is printed\n",
    "print(\"The index of ('a', 'b'):\", index)\n",
    "\n",
    "# element [3, 4] is searched\n",
    "index = random.index([3, 4])\n",
    "\n",
    "# index is printed\n",
    "print(\"The index of [3, 4]:\", index)"
   ]
  },
  {
   "cell_type": "code",
   "execution_count": null,
   "metadata": {},
   "outputs": [],
   "source": [
    "#count()\n",
    "#pop()\n",
    "#reverse()\n",
    "#sort()\n",
    "#copy()\n",
    "#clear()\n",
    "#any()\n",
    "#all()\n",
    "#ascii()\n",
    "#bool()\n",
    "#enumerate()\n",
    "#filter()\n",
    "#iter()\n",
    "#list()\n",
    "#len()\n",
    "#max()\n",
    "#min()\n",
    "#map()\n",
    "#reversed()\n",
    "#slice()\n",
    "#sorted()\n",
    "#sum()\n",
    "#zip()\n"
   ]
  },
  {
   "cell_type": "code",
   "execution_count": 26,
   "metadata": {},
   "outputs": [
    {
     "name": "stdout",
     "output_type": "stream",
     "text": [
      "['h', 'u', 'm', 'a', 'n']\n"
     ]
    }
   ],
   "source": [
    "#List Comprehension vs For Loop in Python\n",
    "#Example 1: Iterating through a string Using for Loop\n",
    "h_letters = []\n",
    "for letter in 'human':\n",
    "    h_letters.append(letter)\n",
    "print(h_letters)"
   ]
  },
  {
   "cell_type": "code",
   "execution_count": 27,
   "metadata": {},
   "outputs": [
    {
     "name": "stdout",
     "output_type": "stream",
     "text": [
      "['h', 'u', 'm', 'a', 'n']\n"
     ]
    }
   ],
   "source": [
    "#Example 2: Iterating through a string Using List Comprehension\n",
    "h_letters = [letter for letter in 'human']\n",
    "print(h_letters)"
   ]
  },
  {
   "cell_type": "code",
   "execution_count": 28,
   "metadata": {},
   "outputs": [
    {
     "name": "stdout",
     "output_type": "stream",
     "text": [
      "['h', 'u', 'm', 'a', 'n']\n"
     ]
    }
   ],
   "source": [
    "#Example 3: Using Lambda functions inside List\n",
    "letters = list(map(lambda x: x, 'human'))\n",
    "print(letters)"
   ]
  },
  {
   "cell_type": "code",
   "execution_count": 29,
   "metadata": {},
   "outputs": [
    {
     "name": "stdout",
     "output_type": "stream",
     "text": [
      "[0, 2, 4, 6, 8, 10, 12, 14, 16, 18]\n"
     ]
    }
   ],
   "source": [
    "#Example 4: Using if with List Comprehension\n",
    "number_list = [ x for x in range(20) if x % 2 == 0]\n",
    "print(number_list)"
   ]
  },
  {
   "cell_type": "code",
   "execution_count": 30,
   "metadata": {},
   "outputs": [
    {
     "name": "stdout",
     "output_type": "stream",
     "text": [
      "[0, 10, 20, 30, 40, 50, 60, 70, 80, 90]\n"
     ]
    }
   ],
   "source": [
    "#Example 5: Nested IF with List Comprehension\n",
    "num_list = [y for y in range(100) if y % 2 == 0 if y % 5 == 0]\n",
    "print(num_list)"
   ]
  },
  {
   "cell_type": "code",
   "execution_count": 31,
   "metadata": {},
   "outputs": [
    {
     "name": "stdout",
     "output_type": "stream",
     "text": [
      "['Even', 'Odd', 'Even', 'Odd', 'Even', 'Odd', 'Even', 'Odd', 'Even', 'Odd']\n"
     ]
    }
   ],
   "source": [
    "#Example 6: if...else With List Comprehension\n",
    "obj = [\"Even\" if i%2==0 else \"Odd\" for i in range(10)]\n",
    "print(obj)"
   ]
  },
  {
   "cell_type": "code",
   "execution_count": 32,
   "metadata": {},
   "outputs": [
    {
     "name": "stdout",
     "output_type": "stream",
     "text": [
      "[[1, 4], [2, 5], [3, 6], [4, 8]]\n"
     ]
    }
   ],
   "source": [
    "#Example 7: Transpose of Matrix using Nested Loops\n",
    "transposed = []\n",
    "matrix = [[1, 2, 3, 4], [4, 5, 6, 8]]\n",
    "\n",
    "for i in range(len(matrix[0])):\n",
    "    transposed_row = []\n",
    "\n",
    "    for row in matrix:\n",
    "        transposed_row.append(row[i])\n",
    "    transposed.append(transposed_row)\n",
    "\n",
    "print(transposed)\n",
    "\n",
    "#Output: [[1, 4], [2, 5], [3, 6]]"
   ]
  },
  {
   "cell_type": "code",
   "execution_count": 33,
   "metadata": {},
   "outputs": [
    {
     "name": "stdout",
     "output_type": "stream",
     "text": [
      "[[1, 3, 5, 7], [2, 4, 6, 8]]\n"
     ]
    }
   ],
   "source": [
    "#Example 8: Transpose of a Matrix using List Comprehension\n",
    "matrix = [[1, 2], [3,4], [5,6], [7,8]]\n",
    "transpose = [[row[i] for row in matrix] for i in range(2)]\n",
    "print (transpose)"
   ]
  }
 ],
 "metadata": {
  "kernelspec": {
   "display_name": "Python 3",
   "language": "python",
   "name": "python3"
  },
  "language_info": {
   "codemirror_mode": {
    "name": "ipython",
    "version": 3
   },
   "file_extension": ".py",
   "mimetype": "text/x-python",
   "name": "python",
   "nbconvert_exporter": "python",
   "pygments_lexer": "ipython3",
   "version": "3.7.1"
  }
 },
 "nbformat": 4,
 "nbformat_minor": 2
}
