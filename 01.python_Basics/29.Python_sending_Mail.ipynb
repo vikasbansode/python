{
 "cells": [
  {
   "cell_type": "code",
   "execution_count": 1,
   "metadata": {},
   "outputs": [],
   "source": [
    "import smtplib"
   ]
  },
  {
   "cell_type": "code",
   "execution_count": 2,
   "metadata": {},
   "outputs": [
    {
     "name": "stdout",
     "output_type": "stream",
     "text": [
      "Error: unable to send email\n"
     ]
    }
   ],
   "source": [
    "import smtplib  \n",
    "sender_mail = 'vikasbnsd202@gmail.com'  \n",
    "receivers_mail = ['swatibnsd202@gmail.com']  \n",
    "message = \"\"\"From: From Person %s \n",
    "To: To Person %s \n",
    "Subject: Sending SMTP e-mail  \n",
    "This is a test e-mail message. \n",
    "\"\"\"%(sender_mail,receivers_mail)  \n",
    "try:  \n",
    "   smtpObj = smtplib.SMTP('localhost')  \n",
    "   smtpObj.sendmail(sender_mail, receivers_mail, message)  \n",
    "   print(\"Successfully sent email\")  \n",
    "except Exception:  \n",
    "   print(\"Error: unable to send email\")  "
   ]
  }
 ],
 "metadata": {
  "kernelspec": {
   "display_name": "Python 3",
   "language": "python",
   "name": "python3"
  },
  "language_info": {
   "codemirror_mode": {
    "name": "ipython",
    "version": 3
   },
   "file_extension": ".py",
   "mimetype": "text/x-python",
   "name": "python",
   "nbconvert_exporter": "python",
   "pygments_lexer": "ipython3",
   "version": "3.7.1"
  }
 },
 "nbformat": 4,
 "nbformat_minor": 2
}
