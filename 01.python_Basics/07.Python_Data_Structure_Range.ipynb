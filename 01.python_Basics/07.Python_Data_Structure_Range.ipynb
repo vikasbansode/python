{
 "cells": [
  {
   "cell_type": "code",
   "execution_count": null,
   "metadata": {},
   "outputs": [],
   "source": [
    "\"\"\"\n",
    "range() returns an immutable sequence of numbers between the given start integer to the stop integer.\n",
    "\"\"\""
   ]
  },
  {
   "cell_type": "code",
   "execution_count": 1,
   "metadata": {},
   "outputs": [
    {
     "name": "stdout",
     "output_type": "stream",
     "text": [
      "range(1, 10)\n"
     ]
    }
   ],
   "source": [
    "print(range(1, 10)) # Output: range(1, 10)"
   ]
  },
  {
   "cell_type": "code",
   "execution_count": 2,
   "metadata": {},
   "outputs": [
    {
     "name": "stdout",
     "output_type": "stream",
     "text": [
      "[1, 2, 3, 4, 5]\n",
      "(1, 2, 3, 4, 5)\n",
      "{1, 2, 3, 4, 5}\n",
      "{1: 99, 2: 99, 3: 99, 4: 99, 5: 99}\n"
     ]
    }
   ],
   "source": [
    "numbers = range(1, 6)\n",
    "\n",
    "print(list(numbers)) # Output: [1, 2, 3, 4, 5]\n",
    "print(tuple(numbers)) # Output: (1, 2, 3, 4, 5)\n",
    "print(set(numbers)) # Output: {1, 2, 3, 4, 5}\n",
    "\n",
    "# Output: {1: 99, 2: 99, 3: 99, 4: 99, 5: 99} \n",
    "print(dict.fromkeys(numbers, 99))"
   ]
  },
  {
   "cell_type": "code",
   "execution_count": 3,
   "metadata": {},
   "outputs": [
    {
     "name": "stdout",
     "output_type": "stream",
     "text": [
      "[1, 2, 3, 4, 5]\n",
      "[1, 3, 5]\n",
      "[5, 4, 3, 2, 1]\n"
     ]
    }
   ],
   "source": [
    "# Equivalent to: numbers = range(1, 6)\n",
    "numbers1 = range(1, 6 , 1)\n",
    "print(list(numbers1)) # Output: [1, 2, 3, 4, 5]\n",
    "\n",
    "numbers2 = range(1, 6, 2)\n",
    "print(list(numbers2)) # Output: [1, 3, 5]\n",
    "\n",
    "numbers3 = range(5, 0, -1)\n",
    "print(list(numbers3)) # Output: [5, 4, 3, 2, 1]"
   ]
  }
 ],
 "metadata": {
  "kernelspec": {
   "display_name": "Python 3",
   "language": "python",
   "name": "python3"
  },
  "language_info": {
   "codemirror_mode": {
    "name": "ipython",
    "version": 3
   },
   "file_extension": ".py",
   "mimetype": "text/x-python",
   "name": "python",
   "nbconvert_exporter": "python",
   "pygments_lexer": "ipython3",
   "version": "3.7.1"
  }
 },
 "nbformat": 4,
 "nbformat_minor": 2
}
