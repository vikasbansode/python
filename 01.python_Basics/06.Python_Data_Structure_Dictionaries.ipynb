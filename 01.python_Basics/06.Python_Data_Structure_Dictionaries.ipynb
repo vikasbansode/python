{
 "cells": [
  {
   "cell_type": "code",
   "execution_count": null,
   "metadata": {},
   "outputs": [],
   "source": [
    "\"\"\"\n",
    "Dictionary is an unordered collection of items. \n",
    "While other compound data types have only value as an element, a dictionary has a key: value pair. For example:\n",
    "\"\"\""
   ]
  },
  {
   "cell_type": "code",
   "execution_count": 1,
   "metadata": {},
   "outputs": [],
   "source": [
    "# empty dictionary\n",
    "my_dict = {}\n",
    "\n",
    "# dictionary with integer keys\n",
    "my_dict = {1: 'apple', 2: 'ball'}\n",
    "\n",
    "# dictionary with mixed keys\n",
    "my_dict = {'name': 'John', 1: [2, 4, 3]}"
   ]
  },
  {
   "cell_type": "code",
   "execution_count": null,
   "metadata": {},
   "outputs": [],
   "source": [
    "#Python dict() fuction\n"
   ]
  },
  {
   "cell_type": "code",
   "execution_count": 2,
   "metadata": {},
   "outputs": [
    {
     "name": "stdout",
     "output_type": "stream",
     "text": [
      "numbers = {'x': 5, 'y': 0}\n",
      "<class 'dict'>\n",
      "empty = {}\n",
      "<class 'dict'>\n"
     ]
    }
   ],
   "source": [
    "#Example 1: Create Dictionary Using keyword arguments only\n",
    "numbers = dict(x=5, y=0)\n",
    "print('numbers =', numbers)\n",
    "print(type(numbers))\n",
    "\n",
    "empty = dict()\n",
    "print('empty =', empty)\n",
    "print(type(empty))"
   ]
  },
  {
   "cell_type": "code",
   "execution_count": 3,
   "metadata": {},
   "outputs": [
    {
     "name": "stdout",
     "output_type": "stream",
     "text": [
      "numbers1 = {'x': 5, 'y': -5}\n",
      "numbers2 = {'x': 5, 'y': -5, 'z': 8}\n",
      "numbers3 = {'x': 1, 'y': 2, 'z': 3}\n"
     ]
    }
   ],
   "source": [
    "#Example 2: Create Dictionary Using Iterable\n",
    "# keyword argument is not passed\n",
    "numbers1 = dict([('x', 5), ('y', -5)])\n",
    "print('numbers1 =',numbers1)\n",
    "\n",
    "# keyword argument is also passed\n",
    "numbers2 = dict([('x', 5), ('y', -5)], z=8)\n",
    "print('numbers2 =',numbers2)\n",
    "\n",
    "# zip() creates an iterable in Python 3\n",
    "numbers3 = dict(dict(zip(['x', 'y', 'z'], [1, 2, 3])))\n",
    "print('numbers3 =',numbers3)"
   ]
  },
  {
   "cell_type": "code",
   "execution_count": 4,
   "metadata": {
    "scrolled": true
   },
   "outputs": [
    {
     "name": "stdout",
     "output_type": "stream",
     "text": [
      "numbers1 = {'x': 4, 'y': 5}\n",
      "numbers2 = {'x': 4, 'y': 5}\n",
      "numbers3 = {'x': 4, 'y': 5, 'z': 8}\n"
     ]
    }
   ],
   "source": [
    "#Example 3: Create Dictionary Using Mapping\n",
    "numbers1 = dict({'x': 4, 'y': 5})\n",
    "print('numbers1 =',numbers1)\n",
    "\n",
    "# you don't need to use dict() in above code\n",
    "numbers2 = {'x': 4, 'y': 5}\n",
    "print('numbers2 =',numbers2)\n",
    "\n",
    "# keyword argument is also passed\n",
    "numbers3 = dict({'x': 4, 'y': 5}, z=8)\n",
    "print('numbers3 =',numbers3)"
   ]
  },
  {
   "cell_type": "code",
   "execution_count": 5,
   "metadata": {},
   "outputs": [
    {
     "name": "stdout",
     "output_type": "stream",
     "text": [
      "26\n"
     ]
    }
   ],
   "source": [
    "#To access value from a dictionary, you use key. For example:\n",
    "person = {'name':'Jack', 'age': 26, 'salary': 4534.2}\n",
    "print(person['age']) # Output: 26"
   ]
  },
  {
   "cell_type": "code",
   "execution_count": 6,
   "metadata": {
    "scrolled": true
   },
   "outputs": [
    {
     "name": "stdout",
     "output_type": "stream",
     "text": [
      "{'name': 'Jack', 'age': 36}\n",
      "{'name': 'Jack', 'age': 36, 'salary': 4342.4}\n",
      "{'name': 'Jack', 'salary': 4342.4}\n"
     ]
    }
   ],
   "source": [
    "#Here's how you can change, add or delete dictionary elements.\n",
    "person = {'name':'Jack', 'age': 26}\n",
    "\n",
    "# Changing age to 36\n",
    "person['age'] = 36 \n",
    "print(person) # Output: {'name': 'Jack', 'age': 36}\n",
    "\n",
    "# Adding salary key, value pair\n",
    "person['salary'] = 4342.4\n",
    "print(person) # Output: {'name': 'Jack', 'age': 36, 'salary': 4342.4}\n",
    "\n",
    "\n",
    "# Deleting age\n",
    "del person['age']\n",
    "print(person) # Output: {'name': 'Jack', 'salary': 4342.4}\n",
    "\n",
    "# Deleting entire dictionary\n",
    "del person"
   ]
  },
  {
   "cell_type": "code",
   "execution_count": null,
   "metadata": {},
   "outputs": [],
   "source": [
    "#Dictionary Methods\n",
    "#clear()\n",
    "#copy()\n",
    "#fromkeys(seq[,v])\n",
    "#get() etc .."
   ]
  },
  {
   "cell_type": "code",
   "execution_count": 7,
   "metadata": {},
   "outputs": [
    {
     "name": "stdout",
     "output_type": "stream",
     "text": [
      "{0: 0, 1: 1, 2: 4, 3: 9, 4: 16, 5: 25}\n"
     ]
    }
   ],
   "source": [
    "#Python Dictionary Comprehension\n",
    "squares = {x: x*x for x in range(6)}\n",
    "\n",
    "# Output: {0: 0, 1: 1, 2: 4, 3: 9, 4: 16, 5: 25}\n",
    "print(squares)"
   ]
  },
  {
   "cell_type": "code",
   "execution_count": 8,
   "metadata": {},
   "outputs": [],
   "source": [
    "squares = {}\n",
    "for x in range(6):\n",
    "   squares[x] = x*x"
   ]
  },
  {
   "cell_type": "code",
   "execution_count": 9,
   "metadata": {},
   "outputs": [
    {
     "name": "stdout",
     "output_type": "stream",
     "text": [
      "{1: 1, 3: 9, 5: 25, 7: 49, 9: 81}\n"
     ]
    }
   ],
   "source": [
    "odd_squares = {x: x*x for x in range(11) if x%2 == 1}\n",
    "\n",
    "# Output: {1: 1, 3: 9, 5: 25, 7: 49, 9: 81}\n",
    "print(odd_squares)"
   ]
  }
 ],
 "metadata": {
  "kernelspec": {
   "display_name": "Python 3",
   "language": "python",
   "name": "python3"
  },
  "language_info": {
   "codemirror_mode": {
    "name": "ipython",
    "version": 3
   },
   "file_extension": ".py",
   "mimetype": "text/x-python",
   "name": "python",
   "nbconvert_exporter": "python",
   "pygments_lexer": "ipython3",
   "version": "3.7.1"
  }
 },
 "nbformat": 4,
 "nbformat_minor": 2
}
