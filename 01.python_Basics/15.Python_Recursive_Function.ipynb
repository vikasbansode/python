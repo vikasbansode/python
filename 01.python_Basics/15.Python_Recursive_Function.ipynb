{
 "cells": [
  {
   "cell_type": "code",
   "execution_count": null,
   "metadata": {},
   "outputs": [],
   "source": [
    "\"\"\"\n",
    "A function that calls itself is known as recursive function and this process is called recursion.\n",
    "Every recursive function must have a base condition that stops the recursion or else the function calls itself infinitely.\n",
    "\"\"\""
   ]
  },
  {
   "cell_type": "code",
   "execution_count": 1,
   "metadata": {},
   "outputs": [
    {
     "name": "stdout",
     "output_type": "stream",
     "text": [
      "The factorial of 6 is 720\n"
     ]
    }
   ],
   "source": [
    "# Recursive function to find the factorial of a number\n",
    "\n",
    "def calc_factorial(x):\n",
    "\n",
    "    if x == 1:\n",
    "        return 1\n",
    "    else:\n",
    "        return (x * calc_factorial(x-1))\n",
    "\n",
    "num = 6\n",
    "print(\"The factorial of\", num, \"is\", calc_factorial(num)) "
   ]
  },
  {
   "cell_type": "code",
   "execution_count": 2,
   "metadata": {},
   "outputs": [
    {
     "data": {
      "text/plain": [
       "24"
      ]
     },
     "execution_count": 2,
     "metadata": {},
     "output_type": "execute_result"
    }
   ],
   "source": [
    "calc_factorial(4)              # 1st call with 4\n",
    "4 * calc_factorial(3)          # 2nd call with 3\n",
    "4 * 3 * calc_factorial(2)      # 3rd call with 2\n",
    "4 * 3 * 2 * calc_factorial(1)  # 4th call with 1\n",
    "4 * 3 * 2 * 1                  # return from 4th call as number=1\n",
    "4 * 3 * 2                      # return from 3rd call\n",
    "4 * 6                          # return from 2nd call\n",
    "24                             # return from 1st call"
   ]
  }
 ],
 "metadata": {
  "kernelspec": {
   "display_name": "Python 3",
   "language": "python",
   "name": "python3"
  },
  "language_info": {
   "codemirror_mode": {
    "name": "ipython",
    "version": 3
   },
   "file_extension": ".py",
   "mimetype": "text/x-python",
   "name": "python",
   "nbconvert_exporter": "python",
   "pygments_lexer": "ipython3",
   "version": "3.7.1"
  }
 },
 "nbformat": 4,
 "nbformat_minor": 2
}
