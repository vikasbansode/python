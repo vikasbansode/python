{
 "cells": [
  {
   "cell_type": "code",
   "execution_count": null,
   "metadata": {},
   "outputs": [],
   "source": [
    "\"\"\"\n",
    "a method with name __init()__ is a constructor. This method is automatically called when an object is instantiated.\n",
    "\"\"\""
   ]
  },
  {
   "cell_type": "code",
   "execution_count": 1,
   "metadata": {},
   "outputs": [
    {
     "name": "stdout",
     "output_type": "stream",
     "text": [
      "2+3j\n",
      "0+0j\n"
     ]
    }
   ],
   "source": [
    "class ComplexNumber:\n",
    "    def __init__(self,r = 0,i = 0):  # constructor\n",
    "        self.real = r\n",
    "        self.imag = i\n",
    "\n",
    "    def getData(self):\n",
    "        print(\"{0}+{1}j\".format(self.real,self.imag))\n",
    "\n",
    "\n",
    "c1 = ComplexNumber(2,3) # Create a new ComplexNumber object\n",
    "c1.getData() # Output: 2+3j\n",
    "\n",
    "c2 = ComplexNumber() # Create a new ComplexNumber object\n",
    "c2.getData() # Output: 0+0j"
   ]
  },
  {
   "cell_type": "code",
   "execution_count": null,
   "metadata": {},
   "outputs": [],
   "source": [
    "#Python Inheritance\n",
    "\"\"\"\n",
    "Inheritance refers to defining a new class with little or no modification to an existing class. Let's take an example:\n",
    "\"\"\""
   ]
  },
  {
   "cell_type": "code",
   "execution_count": 3,
   "metadata": {},
   "outputs": [],
   "source": [
    "class Mammal:\n",
    "  def displayMammalFeatures(self):\n",
    "    print('Mammal is a warm-blooded animal.')\n",
    "    "
   ]
  },
  {
   "cell_type": "code",
   "execution_count": 4,
   "metadata": {},
   "outputs": [
    {
     "name": "stdout",
     "output_type": "stream",
     "text": [
      "Dog has 4 legs.\n",
      "Mammal is a warm-blooded animal.\n"
     ]
    }
   ],
   "source": [
    "class Mammal:\n",
    "  def displayMammalFeatures(self):\n",
    "    print('Mammal is a warm-blooded animal.')\n",
    "\n",
    "class Dog(Mammal):\n",
    "  def displayDogFeatures(self):\n",
    "    print('Dog has 4 legs.')\n",
    "\n",
    "d = Dog()\n",
    "d.displayDogFeatures()\n",
    "d.displayMammalFeatures()"
   ]
  }
 ],
 "metadata": {
  "kernelspec": {
   "display_name": "Python 3",
   "language": "python",
   "name": "python3"
  },
  "language_info": {
   "codemirror_mode": {
    "name": "ipython",
    "version": 3
   },
   "file_extension": ".py",
   "mimetype": "text/x-python",
   "name": "python",
   "nbconvert_exporter": "python",
   "pygments_lexer": "ipython3",
   "version": "3.7.1"
  }
 },
 "nbformat": 4,
 "nbformat_minor": 2
}
