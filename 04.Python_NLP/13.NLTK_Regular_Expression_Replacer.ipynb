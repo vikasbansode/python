{
 "cells": [
  {
   "cell_type": "code",
   "execution_count": 3,
   "metadata": {},
   "outputs": [],
   "source": [
    "import re"
   ]
  },
  {
   "cell_type": "code",
   "execution_count": 4,
   "metadata": {},
   "outputs": [],
   "source": [
    "regex = re.compile(r'don\\'t')"
   ]
  },
  {
   "cell_type": "code",
   "execution_count": 5,
   "metadata": {},
   "outputs": [],
   "source": [
    "fst = \"I don't go to school\""
   ]
  },
  {
   "cell_type": "code",
   "execution_count": 6,
   "metadata": {},
   "outputs": [],
   "source": [
    "sst = regex.sub(\"do not\",fst)"
   ]
  },
  {
   "cell_type": "code",
   "execution_count": 8,
   "metadata": {
    "scrolled": true
   },
   "outputs": [
    {
     "name": "stdout",
     "output_type": "stream",
     "text": [
      "\n",
      "Origin Line: I don't go to school\n",
      "\n",
      "Edited Line : I do not go to school\n"
     ]
    }
   ],
   "source": [
    "print(\"\\nOrigin Line: \" + fst)\n",
    "print(\"\\nEdited Line : \" + sst)"
   ]
  },
  {
   "cell_type": "code",
   "execution_count": 17,
   "metadata": {},
   "outputs": [],
   "source": [
    "fst = \"I won't go there. He's a mad man. He won't end that. He'd have to go now.don't go. I can't do that.\""
   ]
  },
  {
   "cell_type": "code",
   "execution_count": 18,
   "metadata": {},
   "outputs": [],
   "source": [
    "givenpattern =[(r'won\\'t','will not'),\n",
    "               (r'\\'s','is'),\n",
    "               (r'\\'d','would'),\n",
    "               (r'don\\'t','do not'),\n",
    "               (r'shoudn\\'t','shoud not'),\n",
    "               (r'can\\'t','can not'),   \n",
    "]"
   ]
  },
  {
   "cell_type": "code",
   "execution_count": 19,
   "metadata": {},
   "outputs": [],
   "source": [
    "def replace(text,patterns):\n",
    "    for (raw,rep) in patterns:\n",
    "        regex = re.compile(raw)\n",
    "        text = regex.sub(rep,text)\n",
    "    print(text)"
   ]
  },
  {
   "cell_type": "code",
   "execution_count": 20,
   "metadata": {},
   "outputs": [
    {
     "name": "stdout",
     "output_type": "stream",
     "text": [
      "I will not go there. Heis a mad man. He will not end that. Hewould have to go now.do not go. I can not do that.\n"
     ]
    }
   ],
   "source": [
    "replace(fst,givenpattern)"
   ]
  }
 ],
 "metadata": {
  "kernelspec": {
   "display_name": "Python 3",
   "language": "python",
   "name": "python3"
  },
  "language_info": {
   "codemirror_mode": {
    "name": "ipython",
    "version": 3
   },
   "file_extension": ".py",
   "mimetype": "text/x-python",
   "name": "python",
   "nbconvert_exporter": "python",
   "pygments_lexer": "ipython3",
   "version": "3.7.3"
  }
 },
 "nbformat": 4,
 "nbformat_minor": 2
}
