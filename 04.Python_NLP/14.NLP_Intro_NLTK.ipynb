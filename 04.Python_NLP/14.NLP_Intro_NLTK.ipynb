{
 "cells": [
  {
   "cell_type": "code",
   "execution_count": null,
   "metadata": {},
   "outputs": [],
   "source": [
    "\"\"\"\n",
    "                ◘ Natural Language Processing\n",
    "    Field concerned with the ability of a computer to understand, analyze,\n",
    "    manipulate and potentially generate human language.\n",
    "\"\"\"\n",
    "\n",
    "\"\"\"\n",
    "                ◘ Real-Life Examples\n",
    "            • Email spam filter\n",
    "            • Auto-Complete\n",
    "            • Auto-correct\n",
    "\"\"\"\n",
    "\"\"\"\n",
    "                ◘ Areas of NLP\n",
    "        • Sentiment Analysis\n",
    "        • Topic Modeling\n",
    "        • Text Classification\n",
    "        • parts of speech Tagging / Sentence segmentation\n",
    "    Core component of NLP is extracting all the information from a block of\n",
    "    text that is relevant to computer understanding the language \n",
    "    [task-specific]\n",
    "\"\"\"\n",
    "\"\"\"\n",
    "                ◘ What is NLTK?\n",
    "        Suit of open-source tools created to make NLP processes in Python\n",
    "        easier to build.\n",
    "\"\"\"\n"
   ]
  },
  {
   "cell_type": "code",
   "execution_count": 2,
   "metadata": {},
   "outputs": [],
   "source": [
    "import nltk\n",
    "from nltk.tokenize import word_tokenize"
   ]
  },
  {
   "cell_type": "code",
   "execution_count": 5,
   "metadata": {
    "scrolled": true
   },
   "outputs": [
    {
     "name": "stdout",
     "output_type": "stream",
     "text": [
      "I am learning NLP and using NLTK\n",
      "['I', 'am', 'learning', 'NLP', 'and', 'using', 'NLTK']\n"
     ]
    }
   ],
   "source": [
    "input_txt = \"I am learning NLP and using NLTK\"\n",
    "word_tokens = word_tokenize(input_txt)\n",
    "print(input_txt)\n",
    "print(word_tokens)"
   ]
  },
  {
   "cell_type": "code",
   "execution_count": null,
   "metadata": {},
   "outputs": [],
   "source": [
    "# Structured and Unstructured Data"
   ]
  },
  {
   "cell_type": "code",
   "execution_count": null,
   "metadata": {},
   "outputs": [],
   "source": [
    "\"\"\"\n",
    "            ◘ Structured Data\n",
    "        • Highly organized\n",
    "        • Well-formatted\n",
    "        • Easily searchable in related DB\n",
    "        \n",
    "            ◘ Unstructured Data\n",
    "        • No pre-defined Format\n",
    "        • Difficult to process, collect, analyze\n",
    "        e.g.,\n",
    "            ○ tweets of a user\n",
    "            ○ text\n",
    "            ○ Video\n",
    "            ○ audio\n",
    "            ○ social media activity\n",
    "            ○ surveillance imagery\n",
    "\"\"\""
   ]
  }
 ],
 "metadata": {
  "kernelspec": {
   "display_name": "Python 3",
   "language": "python",
   "name": "python3"
  },
  "language_info": {
   "codemirror_mode": {
    "name": "ipython",
    "version": 3
   },
   "file_extension": ".py",
   "mimetype": "text/x-python",
   "name": "python",
   "nbconvert_exporter": "python",
   "pygments_lexer": "ipython3",
   "version": "3.7.3"
  }
 },
 "nbformat": 4,
 "nbformat_minor": 2
}
