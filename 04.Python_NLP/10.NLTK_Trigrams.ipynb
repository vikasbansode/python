{
 "cells": [
  {
   "cell_type": "code",
   "execution_count": 1,
   "metadata": {},
   "outputs": [],
   "source": [
    "from nltk.collocations import TrigramCollocationFinder\n",
    "from nltk.metrics import TrigramAssocMeasures"
   ]
  },
  {
   "cell_type": "code",
   "execution_count": 2,
   "metadata": {},
   "outputs": [],
   "source": [
    "from nltk.corpus import webtext\n",
    "textwords = [w.lower() for w in webtext.words('grail.txt')]"
   ]
  },
  {
   "cell_type": "code",
   "execution_count": 3,
   "metadata": {},
   "outputs": [],
   "source": [
    "finder = TrigramCollocationFinder.from_words(textwords)"
   ]
  },
  {
   "cell_type": "code",
   "execution_count": 4,
   "metadata": {},
   "outputs": [
    {
     "data": {
      "text/plain": [
       "[('[', 'boom', ']'),\n",
       " ('[', 'singing', ']'),\n",
       " ('[', 'music', ']'),\n",
       " ('[', 'clang', ']'),\n",
       " ('.', 'arthur', ':'),\n",
       " ('[', 'chanting', ']'),\n",
       " ('[', 'pause', ']'),\n",
       " ('[', 'squeak', ']'),\n",
       " ('[', 'thud', ']'),\n",
       " ('[', 'bonk', ']')]"
      ]
     },
     "execution_count": 4,
     "metadata": {},
     "output_type": "execute_result"
    }
   ],
   "source": [
    "finder.nbest(TrigramAssocMeasures.likelihood_ratio,10)"
   ]
  },
  {
   "cell_type": "code",
   "execution_count": 5,
   "metadata": {},
   "outputs": [],
   "source": [
    "from nltk.corpus import stopwords"
   ]
  },
  {
   "cell_type": "code",
   "execution_count": 6,
   "metadata": {},
   "outputs": [],
   "source": [
    "ignored_words = set(stopwords.words('english'))"
   ]
  },
  {
   "cell_type": "code",
   "execution_count": 7,
   "metadata": {},
   "outputs": [],
   "source": [
    "filterStops = lambda w: len(w) < 3 or w in ignored_words"
   ]
  },
  {
   "cell_type": "code",
   "execution_count": 8,
   "metadata": {},
   "outputs": [],
   "source": [
    "finder.apply_word_filter(filterStops)"
   ]
  },
  {
   "cell_type": "code",
   "execution_count": 12,
   "metadata": {
    "scrolled": false
   },
   "outputs": [
    {
     "data": {
      "text/plain": [
       "[('clop', 'clop', 'clop'),\n",
       " ('mumble', 'mumble', 'mumble'),\n",
       " ('squeak', 'squeak', 'squeak'),\n",
       " ('saw', 'saw', 'saw'),\n",
       " ('black', 'knight', 'kills'),\n",
       " ('black', 'knight', 'always'),\n",
       " ('pie', 'iesu', 'domine'),\n",
       " ('clap', 'clap', 'clap'),\n",
       " ('squeak', 'squeak', '...]'),\n",
       " ('...', 'head', 'knight')]"
      ]
     },
     "execution_count": 12,
     "metadata": {},
     "output_type": "execute_result"
    }
   ],
   "source": [
    "finder.nbest(TrigramAssocMeasures.likelihood_ratio,10) # you can change number"
   ]
  }
 ],
 "metadata": {
  "kernelspec": {
   "display_name": "Python 3",
   "language": "python",
   "name": "python3"
  },
  "language_info": {
   "codemirror_mode": {
    "name": "ipython",
    "version": 3
   },
   "file_extension": ".py",
   "mimetype": "text/x-python",
   "name": "python",
   "nbconvert_exporter": "python",
   "pygments_lexer": "ipython3",
   "version": "3.7.3"
  }
 },
 "nbformat": 4,
 "nbformat_minor": 2
}
